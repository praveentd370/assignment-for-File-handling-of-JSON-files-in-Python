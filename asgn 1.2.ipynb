{
 "cells": [
  {
   "cell_type": "code",
   "execution_count": 7,
   "id": "21ed97a8",
   "metadata": {},
   "outputs": [
    {
     "name": "stdout",
     "output_type": "stream",
     "text": [
      "{\n",
      "        \"karnatak\": \"Banglore\",\n",
      "        \"maharastra\": \"Mumbai\",\n",
      "        \"Up\": \"Lucknow\",\n",
      "        \"Tamilnadu\": \"Chennai\",\n",
      "        \"West bengal\": \"Kolkatta\",\n",
      "        \"Jharkhand\": \"Ranchi\",\n",
      "        \"Bihar\": \"Patna\"\n",
      "}\n"
     ]
    }
   ],
   "source": [
    "import json \n",
    "states ={\"karnatak\":\"Banglore\",\n",
    "                 \"maharastra\":\"Mumbai\",\n",
    "                 \"Up\":\"Lucknow\",\n",
    "                \"Tamilnadu\":\"Chennai\",\n",
    "                \"West bengal\":\"Kolkatta\",\n",
    "                \"Jharkhand\":\"Ranchi\",\n",
    "           \"Bihar\":\"Patna\"} \n",
    "\n",
    "json_object = json.dumps(states, indent = 8) \n",
    "print(json_object)"
   ]
  },
  {
   "cell_type": "code",
   "execution_count": null,
   "id": "13547441",
   "metadata": {},
   "outputs": [],
   "source": []
  }
 ],
 "metadata": {
  "kernelspec": {
   "display_name": "Python 3 (ipykernel)",
   "language": "python",
   "name": "python3"
  },
  "language_info": {
   "codemirror_mode": {
    "name": "ipython",
    "version": 3
   },
   "file_extension": ".py",
   "mimetype": "text/x-python",
   "name": "python",
   "nbconvert_exporter": "python",
   "pygments_lexer": "ipython3",
   "version": "3.9.12"
  }
 },
 "nbformat": 4,
 "nbformat_minor": 5
}
