{
 "cells": [
  {
   "cell_type": "code",
   "execution_count": 1,
   "id": "24a65eed",
   "metadata": {},
   "outputs": [
    {
     "name": "stdout",
     "output_type": "stream",
     "text": [
      "Dog name is:  Jaky\n",
      "Age of  Jaky  is:  5\n",
      "Coat color of  Jaky  is:  Black\n",
      "The average life span of the breed as 8 to 10 years.\n",
      "Allergies and hip issues in older Bulldogs\n",
      "Thick folds of skin on the brow, round, black, wide set eyes.\n",
      "A rope or nose roll above the nose.\n",
      "Dog name is:  Harry\n",
      "Age of  Harry  is:  4\n",
      "Coat color of  Harry  is:  Brown\n",
      "The breed has a reputation for being healthy.\n",
      "Jack Russells can live from 13 to 16 years.\n",
      "Crossbreed of a Jack Russell terrier and a Beagle is called a Jackabee.\n"
     ]
    }
   ],
   "source": [
    "class Dog:\n",
    "    def __init__(self,name,age,coat_color):\n",
    "        self.name = name\n",
    "        self.age = age\n",
    "        self.coat_color = coat_color\n",
    "    def description(self):\n",
    "        print('Dog name is: ',self.name)\n",
    "        print('Age of ',self.name,' is: ', self.age)    \n",
    "    def get_info(self):\n",
    "        print('Coat color of ',self.name,' is: ',self.coat_color)\n",
    "\n",
    "class JackRussellTerrier(Dog):\n",
    "    def health(self):\n",
    "        print('The breed has a reputation for being healthy.')\n",
    "        print('Jack Russells can live from 13 to 16 years.')\n",
    "    def Crossbreeds(self):\n",
    "        print('Crossbreed of a Jack Russell terrier and a Beagle is called a Jackabee.')    \n",
    "class Bulldog(Dog):\n",
    "    def health(self):\n",
    "        print('The average life span of the breed as 8 to 10 years.')\n",
    "        print('Allergies and hip issues in older Bulldogs')\n",
    "    def Appearance(self):\n",
    "        print('Thick folds of skin on the brow, round, black, wide set eyes.')\n",
    "        print('A rope or nose roll above the nose.')\n",
    "\n",
    "dog = Bulldog('Jaky',5,'Black')\n",
    "dog.description()\n",
    "dog.get_info()        \n",
    "dog.health()\n",
    "dog.Appearance()\n",
    "\n",
    "dog1 = JackRussellTerrier('Harry',4,'Brown')\n",
    "dog1.description()\n",
    "dog1.get_info()\n",
    "dog1.health()\n",
    "dog1.Crossbreeds()"
   ]
  },
  {
   "cell_type": "code",
   "execution_count": null,
   "id": "3a860012",
   "metadata": {},
   "outputs": [],
   "source": []
  },
  {
   "cell_type": "code",
   "execution_count": null,
   "id": "d2c55c76",
   "metadata": {},
   "outputs": [],
   "source": []
  }
 ],
 "metadata": {
  "kernelspec": {
   "display_name": "Python 3 (ipykernel)",
   "language": "python",
   "name": "python3"
  },
  "language_info": {
   "codemirror_mode": {
    "name": "ipython",
    "version": 3
   },
   "file_extension": ".py",
   "mimetype": "text/x-python",
   "name": "python",
   "nbconvert_exporter": "python",
   "pygments_lexer": "ipython3",
   "version": "3.9.12"
  }
 },
 "nbformat": 4,
 "nbformat_minor": 5
}
